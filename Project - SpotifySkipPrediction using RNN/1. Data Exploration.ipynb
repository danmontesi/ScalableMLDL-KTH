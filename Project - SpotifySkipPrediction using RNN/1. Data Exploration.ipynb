{
 "cells": [
  {
   "cell_type": "markdown",
   "metadata": {},
   "source": [
    "# Spotify Sequential Skip Prediction Challenge\n",
    "\n",
    "### Anna Martignano, Daniele Montesi, ID2223\n",
    "With  this  project  we  would  like  to  use  Deep  Learning  to  model  a  solution  to  the  challenge  ”  Spotify Sequential  Skip  Prediction  Challenge  -  Predict  if  users  will  skip  or  listen  to  the  music  they’re  streamed” published by Spotify in collaboration with WSDM and CrowdAI.\n",
    "\n",
    "Citing the CrowdAI Challenge Website:The task is to predict whether individual tracks encountered in a listening session will beskippedby a particular user.  In order to do this, complete information about the first half of a user’slistening session is provided, while the prediction is to be carried out on the second half.  \n",
    "\n",
    "The output of a prediction is abinary variable for each track in the second half of the session indicating if it was skipped or not, with a 1 indicating that the track skipped, and a 0 indicating that the track was not skipped.The  problem  corresponds  hence  to  a  binary  classification.   However,  the  problem  is  hard  and  must take into account all the history of the user tracks listened, making the model that best fits this problem aRecurrent Neural Networks.\n",
    "\n",
    "\n",
    "### Code organization\n",
    "\n",
    "The Project will present the following sections:\n",
    "\n",
    "1. Data exploration \n",
    "2. Data filtering/preprocessing \n",
    "3. Dataset creation\n",
    "4. Model reasoning and creation and fitting\n",
    "5. Model validation: Cross-validation with k=5 folds\n",
    "6. Further feature extraction and further model improvement\n",
    "\n",
    "We will divide the work into 3 notebooks:\n",
    "\n",
    "1. **Data Exploration of the Dataset**\n",
    "See the main features, have an idea of what's the goal of the project\n",
    "\n",
    "2. **Dataset creation:**\n",
    "Comprises: Data filtering/preprocessing & Dataset creation\n",
    "\n",
    "3. **Model Creation and Fitting**\n",
    "Comprises the model creation and fitting. \\\n",
    "It will be done in Google Colab in order to make use of a GPU\n",
    "\n",
    "4. **Feature Extraction & Improvement**\n",
    "\n",
    "## 1 - Data Exploration\n",
    "\n",
    "Let's perform basic data esploraton to see which types of columns to leave/to remove\n",
    "\n",
    "We will start form the **session dataset:**"
   ]
  },
  {
   "cell_type": "code",
   "execution_count": 5,
   "metadata": {},
   "outputs": [],
   "source": [
    "import os\n",
    "from tqdm import tqdm\n",
    "import numpy as np\n",
    "import pandas as pd\n",
    "from glob import glob\n",
    "from joblib import delayed, Parallel\n",
    "import matplotlib.pyplot as plt\n",
    "import datetime\n",
    "from sklearn.preprocessing import LabelEncoder, StandardScaler\n",
    "%matplotlib inline\n",
    "pd.set_option('display.max_columns', 500)\n",
    "\n",
    "path = \"dataset/\""
   ]
  },
  {
   "cell_type": "markdown",
   "metadata": {},
   "source": [
    "The dataset is made of the first 6 csv blocks provided by AICrowd. \n",
    "Each block is ~500MB size csv. For sake of brevity, we only explore one small dataset block here.\n",
    "\n",
    "Let's now explore the first block and how it does look like:"
   ]
  },
  {
   "cell_type": "code",
   "execution_count": 6,
   "metadata": {},
   "outputs": [],
   "source": [
    "data = pd.DataFrame()\n",
    "\n",
    "for i in [1]:\n",
    "  data = pd.concat([data, pd.read_csv(path+\"/{}.csv\".format(i))])\n",
    "\n",
    "data.reset_index(drop=True, inplace=True)"
   ]
  },
  {
   "cell_type": "code",
   "execution_count": 7,
   "metadata": {},
   "outputs": [
    {
     "data": {
      "text/html": [
       "<div>\n",
       "<style scoped>\n",
       "    .dataframe tbody tr th:only-of-type {\n",
       "        vertical-align: middle;\n",
       "    }\n",
       "\n",
       "    .dataframe tbody tr th {\n",
       "        vertical-align: top;\n",
       "    }\n",
       "\n",
       "    .dataframe thead th {\n",
       "        text-align: right;\n",
       "    }\n",
       "</style>\n",
       "<table border=\"1\" class=\"dataframe\">\n",
       "  <thead>\n",
       "    <tr style=\"text-align: right;\">\n",
       "      <th></th>\n",
       "      <th>session_id</th>\n",
       "      <th>session_position</th>\n",
       "      <th>session_length</th>\n",
       "      <th>track_id_clean</th>\n",
       "      <th>skip_1</th>\n",
       "      <th>skip_2</th>\n",
       "      <th>skip_3</th>\n",
       "      <th>not_skipped</th>\n",
       "      <th>context_switch</th>\n",
       "      <th>no_pause_before_play</th>\n",
       "      <th>short_pause_before_play</th>\n",
       "      <th>long_pause_before_play</th>\n",
       "      <th>hist_user_behavior_n_seekfwd</th>\n",
       "      <th>hist_user_behavior_n_seekback</th>\n",
       "      <th>hist_user_behavior_is_shuffle</th>\n",
       "      <th>hour_of_day</th>\n",
       "      <th>date</th>\n",
       "      <th>premium</th>\n",
       "      <th>context_type</th>\n",
       "      <th>hist_user_behavior_reason_start</th>\n",
       "      <th>hist_user_behavior_reason_end</th>\n",
       "    </tr>\n",
       "  </thead>\n",
       "  <tbody>\n",
       "    <tr>\n",
       "      <th>0</th>\n",
       "      <td>0_00006f66-33e5-4de7-a324-2d18e439fc1e</td>\n",
       "      <td>1</td>\n",
       "      <td>20</td>\n",
       "      <td>t_0479f24c-27d2-46d6-a00c-7ec928f2b539</td>\n",
       "      <td>False</td>\n",
       "      <td>False</td>\n",
       "      <td>False</td>\n",
       "      <td>True</td>\n",
       "      <td>0</td>\n",
       "      <td>0</td>\n",
       "      <td>0</td>\n",
       "      <td>0</td>\n",
       "      <td>0</td>\n",
       "      <td>0</td>\n",
       "      <td>True</td>\n",
       "      <td>16</td>\n",
       "      <td>2018-07-15</td>\n",
       "      <td>True</td>\n",
       "      <td>editorial_playlist</td>\n",
       "      <td>trackdone</td>\n",
       "      <td>trackdone</td>\n",
       "    </tr>\n",
       "    <tr>\n",
       "      <th>1</th>\n",
       "      <td>0_00006f66-33e5-4de7-a324-2d18e439fc1e</td>\n",
       "      <td>2</td>\n",
       "      <td>20</td>\n",
       "      <td>t_9099cd7b-c238-47b7-9381-f23f2c1d1043</td>\n",
       "      <td>False</td>\n",
       "      <td>False</td>\n",
       "      <td>False</td>\n",
       "      <td>True</td>\n",
       "      <td>0</td>\n",
       "      <td>1</td>\n",
       "      <td>0</td>\n",
       "      <td>0</td>\n",
       "      <td>0</td>\n",
       "      <td>0</td>\n",
       "      <td>True</td>\n",
       "      <td>16</td>\n",
       "      <td>2018-07-15</td>\n",
       "      <td>True</td>\n",
       "      <td>editorial_playlist</td>\n",
       "      <td>trackdone</td>\n",
       "      <td>trackdone</td>\n",
       "    </tr>\n",
       "    <tr>\n",
       "      <th>2</th>\n",
       "      <td>0_00006f66-33e5-4de7-a324-2d18e439fc1e</td>\n",
       "      <td>3</td>\n",
       "      <td>20</td>\n",
       "      <td>t_fc5df5ba-5396-49a7-8b29-35d0d28249e0</td>\n",
       "      <td>False</td>\n",
       "      <td>False</td>\n",
       "      <td>False</td>\n",
       "      <td>True</td>\n",
       "      <td>0</td>\n",
       "      <td>1</td>\n",
       "      <td>0</td>\n",
       "      <td>0</td>\n",
       "      <td>0</td>\n",
       "      <td>0</td>\n",
       "      <td>True</td>\n",
       "      <td>16</td>\n",
       "      <td>2018-07-15</td>\n",
       "      <td>True</td>\n",
       "      <td>editorial_playlist</td>\n",
       "      <td>trackdone</td>\n",
       "      <td>trackdone</td>\n",
       "    </tr>\n",
       "    <tr>\n",
       "      <th>3</th>\n",
       "      <td>0_00006f66-33e5-4de7-a324-2d18e439fc1e</td>\n",
       "      <td>4</td>\n",
       "      <td>20</td>\n",
       "      <td>t_23cff8d6-d874-4b20-83dc-94e450e8aa20</td>\n",
       "      <td>False</td>\n",
       "      <td>False</td>\n",
       "      <td>False</td>\n",
       "      <td>True</td>\n",
       "      <td>0</td>\n",
       "      <td>1</td>\n",
       "      <td>0</td>\n",
       "      <td>0</td>\n",
       "      <td>0</td>\n",
       "      <td>0</td>\n",
       "      <td>True</td>\n",
       "      <td>16</td>\n",
       "      <td>2018-07-15</td>\n",
       "      <td>True</td>\n",
       "      <td>editorial_playlist</td>\n",
       "      <td>trackdone</td>\n",
       "      <td>trackdone</td>\n",
       "    </tr>\n",
       "    <tr>\n",
       "      <th>4</th>\n",
       "      <td>0_00006f66-33e5-4de7-a324-2d18e439fc1e</td>\n",
       "      <td>5</td>\n",
       "      <td>20</td>\n",
       "      <td>t_64f3743c-f624-46bb-a579-0f3f9a07a123</td>\n",
       "      <td>False</td>\n",
       "      <td>False</td>\n",
       "      <td>False</td>\n",
       "      <td>True</td>\n",
       "      <td>0</td>\n",
       "      <td>1</td>\n",
       "      <td>0</td>\n",
       "      <td>0</td>\n",
       "      <td>0</td>\n",
       "      <td>0</td>\n",
       "      <td>True</td>\n",
       "      <td>16</td>\n",
       "      <td>2018-07-15</td>\n",
       "      <td>True</td>\n",
       "      <td>editorial_playlist</td>\n",
       "      <td>trackdone</td>\n",
       "      <td>trackdone</td>\n",
       "    </tr>\n",
       "  </tbody>\n",
       "</table>\n",
       "</div>"
      ],
      "text/plain": [
       "                               session_id  session_position  session_length  \\\n",
       "0  0_00006f66-33e5-4de7-a324-2d18e439fc1e                 1              20   \n",
       "1  0_00006f66-33e5-4de7-a324-2d18e439fc1e                 2              20   \n",
       "2  0_00006f66-33e5-4de7-a324-2d18e439fc1e                 3              20   \n",
       "3  0_00006f66-33e5-4de7-a324-2d18e439fc1e                 4              20   \n",
       "4  0_00006f66-33e5-4de7-a324-2d18e439fc1e                 5              20   \n",
       "\n",
       "                           track_id_clean  skip_1  skip_2  skip_3  \\\n",
       "0  t_0479f24c-27d2-46d6-a00c-7ec928f2b539   False   False   False   \n",
       "1  t_9099cd7b-c238-47b7-9381-f23f2c1d1043   False   False   False   \n",
       "2  t_fc5df5ba-5396-49a7-8b29-35d0d28249e0   False   False   False   \n",
       "3  t_23cff8d6-d874-4b20-83dc-94e450e8aa20   False   False   False   \n",
       "4  t_64f3743c-f624-46bb-a579-0f3f9a07a123   False   False   False   \n",
       "\n",
       "   not_skipped  context_switch  no_pause_before_play  short_pause_before_play  \\\n",
       "0         True               0                     0                        0   \n",
       "1         True               0                     1                        0   \n",
       "2         True               0                     1                        0   \n",
       "3         True               0                     1                        0   \n",
       "4         True               0                     1                        0   \n",
       "\n",
       "   long_pause_before_play  hist_user_behavior_n_seekfwd  \\\n",
       "0                       0                             0   \n",
       "1                       0                             0   \n",
       "2                       0                             0   \n",
       "3                       0                             0   \n",
       "4                       0                             0   \n",
       "\n",
       "   hist_user_behavior_n_seekback  hist_user_behavior_is_shuffle  hour_of_day  \\\n",
       "0                              0                           True           16   \n",
       "1                              0                           True           16   \n",
       "2                              0                           True           16   \n",
       "3                              0                           True           16   \n",
       "4                              0                           True           16   \n",
       "\n",
       "         date  premium        context_type hist_user_behavior_reason_start  \\\n",
       "0  2018-07-15     True  editorial_playlist                       trackdone   \n",
       "1  2018-07-15     True  editorial_playlist                       trackdone   \n",
       "2  2018-07-15     True  editorial_playlist                       trackdone   \n",
       "3  2018-07-15     True  editorial_playlist                       trackdone   \n",
       "4  2018-07-15     True  editorial_playlist                       trackdone   \n",
       "\n",
       "  hist_user_behavior_reason_end  \n",
       "0                     trackdone  \n",
       "1                     trackdone  \n",
       "2                     trackdone  \n",
       "3                     trackdone  \n",
       "4                     trackdone  "
      ]
     },
     "execution_count": 7,
     "metadata": {},
     "output_type": "execute_result"
    }
   ],
   "source": [
    "data.head(5)"
   ]
  },
  {
   "cell_type": "markdown",
   "metadata": {},
   "source": [
    "### Feature Session Length"
   ]
  },
  {
   "cell_type": "code",
   "execution_count": 8,
   "metadata": {},
   "outputs": [
    {
     "name": "stdout",
     "output_type": "stream",
     "text": [
      "10    0.048739\n",
      "11    0.047673\n",
      "12    0.045390\n",
      "13    0.043300\n",
      "14    0.041411\n",
      "15    0.039418\n",
      "16    0.036413\n",
      "17    0.034743\n",
      "18    0.032688\n",
      "19    0.030534\n",
      "20    0.599691\n",
      "Name: session_length, dtype: float64\n"
     ]
    },
    {
     "data": {
      "text/plain": [
       "<matplotlib.axes._subplots.AxesSubplot at 0x103d95e10>"
      ]
     },
     "execution_count": 8,
     "metadata": {},
     "output_type": "execute_result"
    },
    {
     "data": {
      "image/png": "[encoded data removed]",
      "text/plain": [
       "<Figure size 432x288 with 1 Axes>"
      ]
     },
     "metadata": {
      "needs_background": "light"
     },
     "output_type": "display_data"
    }
   ],
   "source": [
    "print(data.session_length.value_counts(normalize=True, sort=False))\n",
    "data.session_length.hist()"
   ]
  },
  {
   "cell_type": "markdown",
   "metadata": {},
   "source": [
    "### Feature Skip_2\n",
    "\n",
    "Actually is 50-50 - Balanced dataset!"
   ]
  },
  {
   "cell_type": "code",
   "execution_count": 9,
   "metadata": {
    "scrolled": true
   },
   "outputs": [
    {
     "name": "stdout",
     "output_type": "stream",
     "text": [
      "False    0.48725\n",
      "True     0.51275\n",
      "Name: skip_2, dtype: float64\n"
     ]
    },
    {
     "data": {
      "text/plain": [
       "<matplotlib.axes._subplots.AxesSubplot at 0x114d21250>"
      ]
     },
     "execution_count": 9,
     "metadata": {},
     "output_type": "execute_result"
    },
    {
     "data": {
      "image/png": "[encoded data removed]",
      "text/plain": [
       "<Figure size 432x288 with 1 Axes>"
      ]
     },
     "metadata": {
      "needs_background": "light"
     },
     "output_type": "display_data"
    }
   ],
   "source": [
    "print(data.skip_2.value_counts(normalize=True, sort=False))\n",
    "data.skip_2.astype(np.int).hist()"
   ]
  },
  {
   "cell_type": "code",
   "execution_count": 10,
   "metadata": {},
   "outputs": [
    {
     "data": {
      "text/plain": [
       "appload       1.153377e-02\n",
       "fwdbtn        4.734962e-01\n",
       "popup         1.671900e-06\n",
       "trackdone     3.321474e-01\n",
       "trackerror    5.711211e-04\n",
       "backbtn       7.584342e-02\n",
       "remote        9.048324e-04\n",
       "endplay       1.307426e-04\n",
       "playbtn       9.309141e-04\n",
       "clickrow      1.044396e-01\n",
       "uriopen       3.343801e-07\n",
       "Name: hist_user_behavior_reason_start, dtype: float64"
      ]
     },
     "execution_count": 10,
     "metadata": {},
     "output_type": "execute_result"
    }
   ],
   "source": [
    "data.hist_user_behavior_reason_start.value_counts(normalize=True, sort=False)"
   ]
  },
  {
   "cell_type": "code",
   "execution_count": 11,
   "metadata": {},
   "outputs": [
    {
     "data": {
      "text/plain": [
       "<matplotlib.axes._subplots.AxesSubplot at 0x114ef5090>"
      ]
     },
     "execution_count": 11,
     "metadata": {},
     "output_type": "execute_result"
    },
    {
     "data": {
      "image/png": "[encoded data removed]",
      "text/plain": [
       "<Figure size 432x288 with 1 Axes>"
      ]
     },
     "metadata": {
      "needs_background": "light"
     },
     "output_type": "display_data"
    }
   ],
   "source": [
    "data.context_type.hist()"
   ]
  },
  {
   "cell_type": "code",
   "execution_count": 12,
   "metadata": {},
   "outputs": [
    {
     "data": {
      "text/plain": [
       "0    0.233387\n",
       "1    0.766613\n",
       "Name: no_pause_before_play, dtype: float64"
      ]
     },
     "execution_count": 12,
     "metadata": {},
     "output_type": "execute_result"
    }
   ],
   "source": [
    "data.no_pause_before_play.value_counts(normalize=True, sort=False)"
   ]
  },
  {
   "cell_type": "markdown",
   "metadata": {},
   "source": [
    "# Feature Premium or not\n",
    "\n",
    "Premium ~ 5 times more than others"
   ]
  },
  {
   "cell_type": "code",
   "execution_count": 13,
   "metadata": {},
   "outputs": [
    {
     "name": "stdout",
     "output_type": "stream",
     "text": [
      "True     2419034\n",
      "False     571575\n",
      "Name: premium, dtype: int64\n"
     ]
    },
    {
     "data": {
      "text/plain": [
       "<matplotlib.axes._subplots.AxesSubplot at 0x1a182a5a90>"
      ]
     },
     "execution_count": 13,
     "metadata": {},
     "output_type": "execute_result"
    },
    {
     "data": {
      "image/png": "[encoded data removed]",
      "text/plain": [
       "<Figure size 432x288 with 1 Axes>"
      ]
     },
     "metadata": {
      "needs_background": "light"
     },
     "output_type": "display_data"
    }
   ],
   "source": [
    "print(data.premium.value_counts())\n",
    "data.premium.astype(np.int).hist()"
   ]
  },
  {
   "cell_type": "markdown",
   "metadata": {},
   "source": [
    "## Feature Hour of day\n",
    "\n",
    "We will consier the hour for every day period (i.e. nightmorning/afternoon) to reduce number of categories"
   ]
  },
  {
   "cell_type": "code",
   "execution_count": 14,
   "metadata": {},
   "outputs": [
    {
     "data": {
      "text/plain": [
       "<matplotlib.axes._subplots.AxesSubplot at 0x1a18337050>"
      ]
     },
     "execution_count": 14,
     "metadata": {},
     "output_type": "execute_result"
    },
    {
     "data": {
      "image/png": "[encoded data removed]",
      "text/plain": [
       "<Figure size 432x288 with 1 Axes>"
      ]
     },
     "metadata": {
      "needs_background": "light"
     },
     "output_type": "display_data"
    }
   ],
   "source": [
    "data.hour_of_day.hist()"
   ]
  },
  {
   "cell_type": "code",
   "execution_count": 15,
   "metadata": {},
   "outputs": [
    {
     "data": {
      "text/html": [
       "<div>\n",
       "<style scoped>\n",
       "    .dataframe tbody tr th:only-of-type {\n",
       "        vertical-align: middle;\n",
       "    }\n",
       "\n",
       "    .dataframe tbody tr th {\n",
       "        vertical-align: top;\n",
       "    }\n",
       "\n",
       "    .dataframe thead th {\n",
       "        text-align: right;\n",
       "    }\n",
       "</style>\n",
       "<table border=\"1\" class=\"dataframe\">\n",
       "  <thead>\n",
       "    <tr style=\"text-align: right;\">\n",
       "      <th></th>\n",
       "      <th>session_position</th>\n",
       "      <th>session_length</th>\n",
       "      <th>context_switch</th>\n",
       "      <th>no_pause_before_play</th>\n",
       "      <th>short_pause_before_play</th>\n",
       "      <th>long_pause_before_play</th>\n",
       "      <th>hist_user_behavior_n_seekfwd</th>\n",
       "      <th>hist_user_behavior_n_seekback</th>\n",
       "      <th>hour_of_day</th>\n",
       "    </tr>\n",
       "  </thead>\n",
       "  <tbody>\n",
       "    <tr>\n",
       "      <th>count</th>\n",
       "      <td>2.990609e+06</td>\n",
       "      <td>2.990609e+06</td>\n",
       "      <td>2.990609e+06</td>\n",
       "      <td>2.990609e+06</td>\n",
       "      <td>2.990609e+06</td>\n",
       "      <td>2.990609e+06</td>\n",
       "      <td>2.990609e+06</td>\n",
       "      <td>2.990609e+06</td>\n",
       "      <td>2.990609e+06</td>\n",
       "    </tr>\n",
       "    <tr>\n",
       "      <th>mean</th>\n",
       "      <td>9.312991e+00</td>\n",
       "      <td>1.762598e+01</td>\n",
       "      <td>4.242681e-02</td>\n",
       "      <td>7.666128e-01</td>\n",
       "      <td>1.473198e-01</td>\n",
       "      <td>1.737532e-01</td>\n",
       "      <td>3.958525e-02</td>\n",
       "      <td>4.301465e-02</td>\n",
       "      <td>1.413181e+01</td>\n",
       "    </tr>\n",
       "    <tr>\n",
       "      <th>std</th>\n",
       "      <td>5.449092e+00</td>\n",
       "      <td>3.414523e+00</td>\n",
       "      <td>2.015609e-01</td>\n",
       "      <td>4.229866e-01</td>\n",
       "      <td>3.544245e-01</td>\n",
       "      <td>3.788972e-01</td>\n",
       "      <td>3.620769e-01</td>\n",
       "      <td>5.537631e-01</td>\n",
       "      <td>6.036343e+00</td>\n",
       "    </tr>\n",
       "    <tr>\n",
       "      <th>min</th>\n",
       "      <td>1.000000e+00</td>\n",
       "      <td>1.000000e+01</td>\n",
       "      <td>0.000000e+00</td>\n",
       "      <td>0.000000e+00</td>\n",
       "      <td>0.000000e+00</td>\n",
       "      <td>0.000000e+00</td>\n",
       "      <td>0.000000e+00</td>\n",
       "      <td>0.000000e+00</td>\n",
       "      <td>0.000000e+00</td>\n",
       "    </tr>\n",
       "    <tr>\n",
       "      <th>25%</th>\n",
       "      <td>5.000000e+00</td>\n",
       "      <td>1.500000e+01</td>\n",
       "      <td>0.000000e+00</td>\n",
       "      <td>1.000000e+00</td>\n",
       "      <td>0.000000e+00</td>\n",
       "      <td>0.000000e+00</td>\n",
       "      <td>0.000000e+00</td>\n",
       "      <td>0.000000e+00</td>\n",
       "      <td>1.100000e+01</td>\n",
       "    </tr>\n",
       "    <tr>\n",
       "      <th>50%</th>\n",
       "      <td>9.000000e+00</td>\n",
       "      <td>2.000000e+01</td>\n",
       "      <td>0.000000e+00</td>\n",
       "      <td>1.000000e+00</td>\n",
       "      <td>0.000000e+00</td>\n",
       "      <td>0.000000e+00</td>\n",
       "      <td>0.000000e+00</td>\n",
       "      <td>0.000000e+00</td>\n",
       "      <td>1.500000e+01</td>\n",
       "    </tr>\n",
       "    <tr>\n",
       "      <th>75%</th>\n",
       "      <td>1.400000e+01</td>\n",
       "      <td>2.000000e+01</td>\n",
       "      <td>0.000000e+00</td>\n",
       "      <td>1.000000e+00</td>\n",
       "      <td>0.000000e+00</td>\n",
       "      <td>0.000000e+00</td>\n",
       "      <td>0.000000e+00</td>\n",
       "      <td>0.000000e+00</td>\n",
       "      <td>1.900000e+01</td>\n",
       "    </tr>\n",
       "    <tr>\n",
       "      <th>max</th>\n",
       "      <td>2.000000e+01</td>\n",
       "      <td>2.000000e+01</td>\n",
       "      <td>1.000000e+00</td>\n",
       "      <td>1.000000e+00</td>\n",
       "      <td>1.000000e+00</td>\n",
       "      <td>1.000000e+00</td>\n",
       "      <td>2.120000e+02</td>\n",
       "      <td>4.380000e+02</td>\n",
       "      <td>2.300000e+01</td>\n",
       "    </tr>\n",
       "  </tbody>\n",
       "</table>\n",
       "</div>"
      ],
      "text/plain": [
       "       session_position  session_length  context_switch  no_pause_before_play  \\\n",
       "count      2.990609e+06    2.990609e+06    2.990609e+06          2.990609e+06   \n",
       "mean       9.312991e+00    1.762598e+01    4.242681e-02          7.666128e-01   \n",
       "std        5.449092e+00    3.414523e+00    2.015609e-01          4.229866e-01   \n",
       "min        1.000000e+00    1.000000e+01    0.000000e+00          0.000000e+00   \n",
       "25%        5.000000e+00    1.500000e+01    0.000000e+00          1.000000e+00   \n",
       "50%        9.000000e+00    2.000000e+01    0.000000e+00          1.000000e+00   \n",
       "75%        1.400000e+01    2.000000e+01    0.000000e+00          1.000000e+00   \n",
       "max        2.000000e+01    2.000000e+01    1.000000e+00          1.000000e+00   \n",
       "\n",
       "       short_pause_before_play  long_pause_before_play  \\\n",
       "count             2.990609e+06            2.990609e+06   \n",
       "mean              1.473198e-01            1.737532e-01   \n",
       "std               3.544245e-01            3.788972e-01   \n",
       "min               0.000000e+00            0.000000e+00   \n",
       "25%               0.000000e+00            0.000000e+00   \n",
       "50%               0.000000e+00            0.000000e+00   \n",
       "75%               0.000000e+00            0.000000e+00   \n",
       "max               1.000000e+00            1.000000e+00   \n",
       "\n",
       "       hist_user_behavior_n_seekfwd  hist_user_behavior_n_seekback  \\\n",
       "count                  2.990609e+06                   2.990609e+06   \n",
       "mean                   3.958525e-02                   4.301465e-02   \n",
       "std                    3.620769e-01                   5.537631e-01   \n",
       "min                    0.000000e+00                   0.000000e+00   \n",
       "25%                    0.000000e+00                   0.000000e+00   \n",
       "50%                    0.000000e+00                   0.000000e+00   \n",
       "75%                    0.000000e+00                   0.000000e+00   \n",
       "max                    2.120000e+02                   4.380000e+02   \n",
       "\n",
       "        hour_of_day  \n",
       "count  2.990609e+06  \n",
       "mean   1.413181e+01  \n",
       "std    6.036343e+00  \n",
       "min    0.000000e+00  \n",
       "25%    1.100000e+01  \n",
       "50%    1.500000e+01  \n",
       "75%    1.900000e+01  \n",
       "max    2.300000e+01  "
      ]
     },
     "execution_count": 15,
     "metadata": {},
     "output_type": "execute_result"
    }
   ],
   "source": [
    "data.describe()"
   ]
  },
  {
   "cell_type": "markdown",
   "metadata": {},
   "source": [
    "## Feature exploration: Duplicate songs suggested within a session\n",
    "\n",
    "If interesting, we are then going to feature-engineer those interesting features, and we log-normalised the last feature in order to alleviate the long tail distribution.\n",
    "\n",
    "Results:\n",
    "- 54.8 % sessions presenting at least a duplicate track suggested\n",
    "- On avg, there are 2.15"
   ]
  },
  {
   "cell_type": "code",
   "execution_count": 16,
   "metadata": {
    "scrolled": true
   },
   "outputs": [],
   "source": [
    "# Check for presence of duplicate tracks into a session\n",
    "grouped_sess_tracks = data.groupby('session_id')['track_id_clean'].apply(lambda x: x.tolist()).tolist()"
   ]
  },
  {
   "cell_type": "code",
   "execution_count": 17,
   "metadata": {},
   "outputs": [
    {
     "name": "stderr",
     "output_type": "stream",
     "text": [
      "100%|██████████| 178342/178342 [00:06<00:00, 26297.14it/s]"
     ]
    },
    {
     "name": "stdout",
     "output_type": "stream",
     "text": [
      "There are 55.046483722286396 % sessions presenting at least a duplicate track suggested\n",
      "On avg, there are 2.1305805699162286 duplicate songs in those sessions\n"
     ]
    },
    {
     "name": "stderr",
     "output_type": "stream",
     "text": [
      "\n"
     ]
    }
   ],
   "source": [
    "dict_dup_tracks = {}\n",
    "\n",
    "dup_track_in_sess = 0\n",
    "dup = 0\n",
    "\n",
    "idx = 0\n",
    "for list_tracks in tqdm(grouped_sess_tracks):\n",
    "    curr_sess = data.at[idx, \"session_id\"]\n",
    "    dict_dup_tracks[curr_sess] = {}\n",
    "    \n",
    "    tot_len = len(list_tracks)\n",
    "    len_set = len(set(list_tracks))\n",
    "    if tot_len > len_set:\n",
    "        dup_track_in_sess += 1\n",
    "        dup += tot_len-len_set\n",
    "        \n",
    "    for track in list_tracks:\n",
    "        if dict_dup_tracks.get(track) == None:\n",
    "            dict_dup_tracks[curr_sess][track] = 1\n",
    "        else:\n",
    "            dict_dup_tracks[curr_sess][track] +=1\n",
    "            \n",
    "    idx += tot_len\n",
    "    \n",
    "print(\"There are\", dup_track_in_sess*100/len(grouped_sess_tracks), \"% sessions presenting at least a duplicate track suggested\")\n",
    "\n",
    "print(\"On avg, there are\", dup/len(grouped_sess_tracks), \"duplicate songs in those sessions\")"
   ]
  },
  {
   "cell_type": "markdown",
   "metadata": {},
   "source": [
    "55% of sessions are recommended a track multiple times. It will be interesting to add this feature in the future processing of data"
   ]
  },
  {
   "cell_type": "code",
   "execution_count": 18,
   "metadata": {},
   "outputs": [
    {
     "name": "stderr",
     "output_type": "stream",
     "text": [
      "100%|██████████| 2990609/2990609 [03:21<00:00, 14870.75it/s]\n"
     ]
    }
   ],
   "source": [
    "for i in tqdm(data.index):\n",
    "    data.at[i, 'duplicated_time'] = dict_dup_tracks[data.at[i, 'session_id']][data.at[i, 'track_id_clean']]"
   ]
  },
  {
   "cell_type": "markdown",
   "metadata": {},
   "source": [
    "# 2 - Tracks dataset:\n",
    "\n",
    "Also, let's load the Tracks features and explore them\n"
   ]
  },
  {
   "cell_type": "code",
   "execution_count": 19,
   "metadata": {},
   "outputs": [],
   "source": [
    "tf = pd.read_csv(path+\"tf_1.csv\")\n",
    "tf = pd.concat([tf, pd.read_csv(path+\"tf_2.csv\")])\n",
    "tf.reset_index(drop=True, inplace=True)"
   ]
  },
  {
   "cell_type": "code",
   "execution_count": 20,
   "metadata": {},
   "outputs": [
    {
     "data": {
      "text/html": [
       "<div>\n",
       "<style scoped>\n",
       "    .dataframe tbody tr th:only-of-type {\n",
       "        vertical-align: middle;\n",
       "    }\n",
       "\n",
       "    .dataframe tbody tr th {\n",
       "        vertical-align: top;\n",
       "    }\n",
       "\n",
       "    .dataframe thead th {\n",
       "        text-align: right;\n",
       "    }\n",
       "</style>\n",
       "<table border=\"1\" class=\"dataframe\">\n",
       "  <thead>\n",
       "    <tr style=\"text-align: right;\">\n",
       "      <th></th>\n",
       "      <th>track_id</th>\n",
       "      <th>duration</th>\n",
       "      <th>release_year</th>\n",
       "      <th>us_popularity_estimate</th>\n",
       "      <th>acousticness</th>\n",
       "      <th>beat_strength</th>\n",
       "      <th>bounciness</th>\n",
       "      <th>danceability</th>\n",
       "      <th>dyn_range_mean</th>\n",
       "      <th>energy</th>\n",
       "      <th>flatness</th>\n",
       "      <th>instrumentalness</th>\n",
       "      <th>key</th>\n",
       "      <th>liveness</th>\n",
       "      <th>loudness</th>\n",
       "      <th>mechanism</th>\n",
       "      <th>mode</th>\n",
       "      <th>organism</th>\n",
       "      <th>speechiness</th>\n",
       "      <th>tempo</th>\n",
       "      <th>time_signature</th>\n",
       "      <th>valence</th>\n",
       "      <th>acoustic_vector_0</th>\n",
       "      <th>acoustic_vector_1</th>\n",
       "      <th>acoustic_vector_2</th>\n",
       "      <th>acoustic_vector_3</th>\n",
       "      <th>acoustic_vector_4</th>\n",
       "      <th>acoustic_vector_5</th>\n",
       "      <th>acoustic_vector_6</th>\n",
       "      <th>acoustic_vector_7</th>\n",
       "    </tr>\n",
       "  </thead>\n",
       "  <tbody>\n",
       "    <tr>\n",
       "      <th>771158</th>\n",
       "      <td>t_f7b534df-ffff-4154-a9a7-27b1c56cd9a4</td>\n",
       "      <td>98.439369</td>\n",
       "      <td>2018</td>\n",
       "      <td>92.260911</td>\n",
       "      <td>0.532357</td>\n",
       "      <td>0.337667</td>\n",
       "      <td>0.374122</td>\n",
       "      <td>0.430921</td>\n",
       "      <td>6.772919</td>\n",
       "      <td>0.541588</td>\n",
       "      <td>1.019660</td>\n",
       "      <td>1.372499e-10</td>\n",
       "      <td>4</td>\n",
       "      <td>0.132947</td>\n",
       "      <td>-6.390</td>\n",
       "      <td>0.644951</td>\n",
       "      <td>major</td>\n",
       "      <td>0.452473</td>\n",
       "      <td>0.032722</td>\n",
       "      <td>207.912994</td>\n",
       "      <td>4</td>\n",
       "      <td>0.961253</td>\n",
       "      <td>-0.156259</td>\n",
       "      <td>-0.026736</td>\n",
       "      <td>0.159661</td>\n",
       "      <td>0.640426</td>\n",
       "      <td>0.561342</td>\n",
       "      <td>-0.346066</td>\n",
       "      <td>0.777637</td>\n",
       "      <td>-0.487515</td>\n",
       "    </tr>\n",
       "    <tr>\n",
       "      <th>3008398</th>\n",
       "      <td>t_93de2cc2-6435-4f3f-a964-274af43e1417</td>\n",
       "      <td>259.928558</td>\n",
       "      <td>2011</td>\n",
       "      <td>91.819903</td>\n",
       "      <td>0.401643</td>\n",
       "      <td>0.483044</td>\n",
       "      <td>0.578797</td>\n",
       "      <td>0.603090</td>\n",
       "      <td>9.248159</td>\n",
       "      <td>0.797024</td>\n",
       "      <td>0.978735</td>\n",
       "      <td>2.130483e-11</td>\n",
       "      <td>7</td>\n",
       "      <td>0.146153</td>\n",
       "      <td>-7.249</td>\n",
       "      <td>0.487562</td>\n",
       "      <td>major</td>\n",
       "      <td>0.460385</td>\n",
       "      <td>0.285161</td>\n",
       "      <td>162.703003</td>\n",
       "      <td>4</td>\n",
       "      <td>0.685245</td>\n",
       "      <td>-0.928034</td>\n",
       "      <td>0.400092</td>\n",
       "      <td>0.211792</td>\n",
       "      <td>0.257799</td>\n",
       "      <td>-0.103636</td>\n",
       "      <td>-0.056839</td>\n",
       "      <td>-0.123954</td>\n",
       "      <td>0.271191</td>\n",
       "    </tr>\n",
       "    <tr>\n",
       "      <th>886447</th>\n",
       "      <td>t_a8f7f64b-7e63-4fca-8cd3-146d803f6a89</td>\n",
       "      <td>189.226669</td>\n",
       "      <td>2015</td>\n",
       "      <td>93.551876</td>\n",
       "      <td>0.139832</td>\n",
       "      <td>0.654339</td>\n",
       "      <td>0.746258</td>\n",
       "      <td>0.756340</td>\n",
       "      <td>11.669786</td>\n",
       "      <td>0.630127</td>\n",
       "      <td>0.960493</td>\n",
       "      <td>1.758381e-10</td>\n",
       "      <td>5</td>\n",
       "      <td>0.060543</td>\n",
       "      <td>-9.027</td>\n",
       "      <td>0.809619</td>\n",
       "      <td>minor</td>\n",
       "      <td>0.167030</td>\n",
       "      <td>0.358204</td>\n",
       "      <td>179.817001</td>\n",
       "      <td>4</td>\n",
       "      <td>0.672185</td>\n",
       "      <td>-0.922785</td>\n",
       "      <td>0.281562</td>\n",
       "      <td>0.199728</td>\n",
       "      <td>0.165358</td>\n",
       "      <td>-0.330559</td>\n",
       "      <td>-0.078307</td>\n",
       "      <td>-0.601725</td>\n",
       "      <td>0.157073</td>\n",
       "    </tr>\n",
       "    <tr>\n",
       "      <th>1058426</th>\n",
       "      <td>t_4266c435-1cbf-4470-a9e2-f79fc00d8b29</td>\n",
       "      <td>175.666672</td>\n",
       "      <td>1982</td>\n",
       "      <td>98.028147</td>\n",
       "      <td>0.000325</td>\n",
       "      <td>0.354906</td>\n",
       "      <td>0.379362</td>\n",
       "      <td>0.331099</td>\n",
       "      <td>6.729368</td>\n",
       "      <td>0.836294</td>\n",
       "      <td>0.944988</td>\n",
       "      <td>6.021954e-03</td>\n",
       "      <td>7</td>\n",
       "      <td>0.251502</td>\n",
       "      <td>-8.822</td>\n",
       "      <td>0.348889</td>\n",
       "      <td>major</td>\n",
       "      <td>0.460405</td>\n",
       "      <td>0.169188</td>\n",
       "      <td>174.513000</td>\n",
       "      <td>4</td>\n",
       "      <td>0.529885</td>\n",
       "      <td>0.108031</td>\n",
       "      <td>0.037404</td>\n",
       "      <td>-0.399949</td>\n",
       "      <td>-0.281952</td>\n",
       "      <td>0.517134</td>\n",
       "      <td>0.026824</td>\n",
       "      <td>-0.282128</td>\n",
       "      <td>0.180099</td>\n",
       "    </tr>\n",
       "    <tr>\n",
       "      <th>1941135</th>\n",
       "      <td>t_60da5ed3-28b2-42a1-9701-74732da8ef6f</td>\n",
       "      <td>130.057144</td>\n",
       "      <td>2011</td>\n",
       "      <td>91.524936</td>\n",
       "      <td>0.903287</td>\n",
       "      <td>0.645719</td>\n",
       "      <td>0.787043</td>\n",
       "      <td>0.694640</td>\n",
       "      <td>13.664343</td>\n",
       "      <td>0.539836</td>\n",
       "      <td>0.834151</td>\n",
       "      <td>4.258181e-10</td>\n",
       "      <td>0</td>\n",
       "      <td>0.302810</td>\n",
       "      <td>-17.910</td>\n",
       "      <td>0.164384</td>\n",
       "      <td>major</td>\n",
       "      <td>0.870110</td>\n",
       "      <td>0.926276</td>\n",
       "      <td>77.309998</td>\n",
       "      <td>4</td>\n",
       "      <td>0.226343</td>\n",
       "      <td>-0.485463</td>\n",
       "      <td>0.088997</td>\n",
       "      <td>-0.142842</td>\n",
       "      <td>0.095245</td>\n",
       "      <td>-0.157338</td>\n",
       "      <td>-0.324196</td>\n",
       "      <td>-0.443901</td>\n",
       "      <td>-0.283188</td>\n",
       "    </tr>\n",
       "  </tbody>\n",
       "</table>\n",
       "</div>"
      ],
      "text/plain": [
       "                                       track_id    duration  release_year  \\\n",
       "771158   t_f7b534df-ffff-4154-a9a7-27b1c56cd9a4   98.439369          2018   \n",
       "3008398  t_93de2cc2-6435-4f3f-a964-274af43e1417  259.928558          2011   \n",
       "886447   t_a8f7f64b-7e63-4fca-8cd3-146d803f6a89  189.226669          2015   \n",
       "1058426  t_4266c435-1cbf-4470-a9e2-f79fc00d8b29  175.666672          1982   \n",
       "1941135  t_60da5ed3-28b2-42a1-9701-74732da8ef6f  130.057144          2011   \n",
       "\n",
       "         us_popularity_estimate  acousticness  beat_strength  bounciness  \\\n",
       "771158                92.260911      0.532357       0.337667    0.374122   \n",
       "3008398               91.819903      0.401643       0.483044    0.578797   \n",
       "886447                93.551876      0.139832       0.654339    0.746258   \n",
       "1058426               98.028147      0.000325       0.354906    0.379362   \n",
       "1941135               91.524936      0.903287       0.645719    0.787043   \n",
       "\n",
       "         danceability  dyn_range_mean    energy  flatness  instrumentalness  \\\n",
       "771158       0.430921        6.772919  0.541588  1.019660      1.372499e-10   \n",
       "3008398      0.603090        9.248159  0.797024  0.978735      2.130483e-11   \n",
       "886447       0.756340       11.669786  0.630127  0.960493      1.758381e-10   \n",
       "1058426      0.331099        6.729368  0.836294  0.944988      6.021954e-03   \n",
       "1941135      0.694640       13.664343  0.539836  0.834151      4.258181e-10   \n",
       "\n",
       "         key  liveness  loudness  mechanism   mode  organism  speechiness  \\\n",
       "771158     4  0.132947    -6.390   0.644951  major  0.452473     0.032722   \n",
       "3008398    7  0.146153    -7.249   0.487562  major  0.460385     0.285161   \n",
       "886447     5  0.060543    -9.027   0.809619  minor  0.167030     0.358204   \n",
       "1058426    7  0.251502    -8.822   0.348889  major  0.460405     0.169188   \n",
       "1941135    0  0.302810   -17.910   0.164384  major  0.870110     0.926276   \n",
       "\n",
       "              tempo  time_signature   valence  acoustic_vector_0  \\\n",
       "771158   207.912994               4  0.961253          -0.156259   \n",
       "3008398  162.703003               4  0.685245          -0.928034   \n",
       "886447   179.817001               4  0.672185          -0.922785   \n",
       "1058426  174.513000               4  0.529885           0.108031   \n",
       "1941135   77.309998               4  0.226343          -0.485463   \n",
       "\n",
       "         acoustic_vector_1  acoustic_vector_2  acoustic_vector_3  \\\n",
       "771158           -0.026736           0.159661           0.640426   \n",
       "3008398           0.400092           0.211792           0.257799   \n",
       "886447            0.281562           0.199728           0.165358   \n",
       "1058426           0.037404          -0.399949          -0.281952   \n",
       "1941135           0.088997          -0.142842           0.095245   \n",
       "\n",
       "         acoustic_vector_4  acoustic_vector_5  acoustic_vector_6  \\\n",
       "771158            0.561342          -0.346066           0.777637   \n",
       "3008398          -0.103636          -0.056839          -0.123954   \n",
       "886447           -0.330559          -0.078307          -0.601725   \n",
       "1058426           0.517134           0.026824          -0.282128   \n",
       "1941135          -0.157338          -0.324196          -0.443901   \n",
       "\n",
       "         acoustic_vector_7  \n",
       "771158           -0.487515  \n",
       "3008398           0.271191  \n",
       "886447            0.157073  \n",
       "1058426           0.180099  \n",
       "1941135          -0.283188  "
      ]
     },
     "execution_count": 20,
     "metadata": {},
     "output_type": "execute_result"
    }
   ],
   "source": [
    "tf.sample(5)"
   ]
  },
  {
   "cell_type": "markdown",
   "metadata": {},
   "source": [
    "## We observe an high presence of features related to the music\n",
    "\n",
    "- Acoustic vector (there are 8) that are numbers related to rhythm and melody strength/characteristics.\n",
    "- Some features for the technical music charateritcis (key, tempo)\n",
    "- Some for the overall characteristics (danceability, energy, ..)\n",
    "\n",
    "We see that all of them have mean ~ 0, probably stanardized. They will be used to understand which track can be guessed by users."
   ]
  },
  {
   "cell_type": "code",
   "execution_count": 21,
   "metadata": {},
   "outputs": [
    {
     "data": {
      "text/html": [
       "<div>\n",
       "<style scoped>\n",
       "    .dataframe tbody tr th:only-of-type {\n",
       "        vertical-align: middle;\n",
       "    }\n",
       "\n",
       "    .dataframe tbody tr th {\n",
       "        vertical-align: top;\n",
       "    }\n",
       "\n",
       "    .dataframe thead th {\n",
       "        text-align: right;\n",
       "    }\n",
       "</style>\n",
       "<table border=\"1\" class=\"dataframe\">\n",
       "  <thead>\n",
       "    <tr style=\"text-align: right;\">\n",
       "      <th></th>\n",
       "      <th>duration</th>\n",
       "      <th>release_year</th>\n",
       "      <th>us_popularity_estimate</th>\n",
       "      <th>acousticness</th>\n",
       "      <th>beat_strength</th>\n",
       "      <th>bounciness</th>\n",
       "      <th>danceability</th>\n",
       "      <th>dyn_range_mean</th>\n",
       "      <th>energy</th>\n",
       "      <th>flatness</th>\n",
       "      <th>instrumentalness</th>\n",
       "      <th>key</th>\n",
       "      <th>liveness</th>\n",
       "      <th>loudness</th>\n",
       "      <th>mechanism</th>\n",
       "      <th>organism</th>\n",
       "      <th>speechiness</th>\n",
       "      <th>tempo</th>\n",
       "      <th>time_signature</th>\n",
       "      <th>valence</th>\n",
       "      <th>acoustic_vector_0</th>\n",
       "      <th>acoustic_vector_1</th>\n",
       "      <th>acoustic_vector_2</th>\n",
       "      <th>acoustic_vector_3</th>\n",
       "      <th>acoustic_vector_4</th>\n",
       "      <th>acoustic_vector_5</th>\n",
       "      <th>acoustic_vector_6</th>\n",
       "      <th>acoustic_vector_7</th>\n",
       "    </tr>\n",
       "  </thead>\n",
       "  <tbody>\n",
       "    <tr>\n",
       "      <th>count</th>\n",
       "      <td>3.706388e+06</td>\n",
       "      <td>3.706388e+06</td>\n",
       "      <td>3.706388e+06</td>\n",
       "      <td>3.706388e+06</td>\n",
       "      <td>3.706388e+06</td>\n",
       "      <td>3.706388e+06</td>\n",
       "      <td>3.706388e+06</td>\n",
       "      <td>3.706388e+06</td>\n",
       "      <td>3.706388e+06</td>\n",
       "      <td>3.706388e+06</td>\n",
       "      <td>3.706388e+06</td>\n",
       "      <td>3.706388e+06</td>\n",
       "      <td>3.706388e+06</td>\n",
       "      <td>3.706388e+06</td>\n",
       "      <td>3.706388e+06</td>\n",
       "      <td>3.706388e+06</td>\n",
       "      <td>3.706388e+06</td>\n",
       "      <td>3.706388e+06</td>\n",
       "      <td>3.706388e+06</td>\n",
       "      <td>3.706388e+06</td>\n",
       "      <td>3.706388e+06</td>\n",
       "      <td>3.706388e+06</td>\n",
       "      <td>3.706388e+06</td>\n",
       "      <td>3.706388e+06</td>\n",
       "      <td>3.706388e+06</td>\n",
       "      <td>3.706388e+06</td>\n",
       "      <td>3.706388e+06</td>\n",
       "      <td>3.706388e+06</td>\n",
       "    </tr>\n",
       "    <tr>\n",
       "      <th>mean</th>\n",
       "      <td>2.331915e+02</td>\n",
       "      <td>2.009261e+03</td>\n",
       "      <td>9.557394e+01</td>\n",
       "      <td>3.469715e-01</td>\n",
       "      <td>4.617475e-01</td>\n",
       "      <td>4.791122e-01</td>\n",
       "      <td>5.565486e-01</td>\n",
       "      <td>7.848266e+00</td>\n",
       "      <td>5.918491e-01</td>\n",
       "      <td>9.934531e-01</td>\n",
       "      <td>2.070054e-01</td>\n",
       "      <td>5.272434e+00</td>\n",
       "      <td>2.126515e-01</td>\n",
       "      <td>-9.604988e+00</td>\n",
       "      <td>4.996207e-01</td>\n",
       "      <td>4.618936e-01</td>\n",
       "      <td>1.045310e-01</td>\n",
       "      <td>1.200684e+02</td>\n",
       "      <td>3.874560e+00</td>\n",
       "      <td>4.814764e-01</td>\n",
       "      <td>-1.044815e-01</td>\n",
       "      <td>1.553606e-02</td>\n",
       "      <td>5.953425e-02</td>\n",
       "      <td>5.320778e-02</td>\n",
       "      <td>2.273738e-02</td>\n",
       "      <td>6.459076e-04</td>\n",
       "      <td>-2.493560e-02</td>\n",
       "      <td>-1.594925e-03</td>\n",
       "    </tr>\n",
       "    <tr>\n",
       "      <th>std</th>\n",
       "      <td>1.084008e+02</td>\n",
       "      <td>1.103289e+01</td>\n",
       "      <td>2.735566e+00</td>\n",
       "      <td>3.426439e-01</td>\n",
       "      <td>1.717593e-01</td>\n",
       "      <td>1.990264e-01</td>\n",
       "      <td>1.858440e-01</td>\n",
       "      <td>2.680296e+00</td>\n",
       "      <td>2.602815e-01</td>\n",
       "      <td>5.521685e-02</td>\n",
       "      <td>3.447905e-01</td>\n",
       "      <td>3.564020e+00</td>\n",
       "      <td>1.924461e-01</td>\n",
       "      <td>5.732654e+00</td>\n",
       "      <td>2.561809e-01</td>\n",
       "      <td>2.509198e-01</td>\n",
       "      <td>1.385980e-01</td>\n",
       "      <td>3.042757e+01</td>\n",
       "      <td>4.851897e-01</td>\n",
       "      <td>2.725142e-01</td>\n",
       "      <td>4.323750e-01</td>\n",
       "      <td>3.607428e-01</td>\n",
       "      <td>2.804066e-01</td>\n",
       "      <td>3.821163e-01</td>\n",
       "      <td>4.107566e-01</td>\n",
       "      <td>2.118570e-01</td>\n",
       "      <td>3.742747e-01</td>\n",
       "      <td>3.871178e-01</td>\n",
       "    </tr>\n",
       "    <tr>\n",
       "      <th>min</th>\n",
       "      <td>3.000095e+01</td>\n",
       "      <td>1.950000e+03</td>\n",
       "      <td>9.000000e+01</td>\n",
       "      <td>0.000000e+00</td>\n",
       "      <td>0.000000e+00</td>\n",
       "      <td>0.000000e+00</td>\n",
       "      <td>0.000000e+00</td>\n",
       "      <td>0.000000e+00</td>\n",
       "      <td>0.000000e+00</td>\n",
       "      <td>0.000000e+00</td>\n",
       "      <td>0.000000e+00</td>\n",
       "      <td>0.000000e+00</td>\n",
       "      <td>0.000000e+00</td>\n",
       "      <td>-6.000000e+01</td>\n",
       "      <td>0.000000e+00</td>\n",
       "      <td>0.000000e+00</td>\n",
       "      <td>0.000000e+00</td>\n",
       "      <td>0.000000e+00</td>\n",
       "      <td>0.000000e+00</td>\n",
       "      <td>0.000000e+00</td>\n",
       "      <td>-1.174042e+00</td>\n",
       "      <td>-1.185975e+00</td>\n",
       "      <td>-8.858698e-01</td>\n",
       "      <td>-8.994451e-01</td>\n",
       "      <td>-1.081056e+00</td>\n",
       "      <td>-1.063290e+00</td>\n",
       "      <td>-8.022487e-01</td>\n",
       "      <td>-1.178501e+00</td>\n",
       "    </tr>\n",
       "    <tr>\n",
       "      <th>25%</th>\n",
       "      <td>1.767467e+02</td>\n",
       "      <td>2.006000e+03</td>\n",
       "      <td>9.338183e+01</td>\n",
       "      <td>2.667680e-02</td>\n",
       "      <td>3.316528e-01</td>\n",
       "      <td>3.206987e-01</td>\n",
       "      <td>4.326980e-01</td>\n",
       "      <td>5.821963e+00</td>\n",
       "      <td>4.098319e-01</td>\n",
       "      <td>9.691408e-01</td>\n",
       "      <td>2.465405e-07</td>\n",
       "      <td>2.000000e+00</td>\n",
       "      <td>9.680310e-02</td>\n",
       "      <td>-1.171000e+01</td>\n",
       "      <td>2.692308e-01</td>\n",
       "      <td>2.532349e-01</td>\n",
       "      <td>3.627243e-02</td>\n",
       "      <td>9.603400e+01</td>\n",
       "      <td>4.000000e+00</td>\n",
       "      <td>2.519543e-01</td>\n",
       "      <td>-4.085117e-01</td>\n",
       "      <td>-1.757177e-01</td>\n",
       "      <td>-1.471524e-01</td>\n",
       "      <td>-2.348342e-01</td>\n",
       "      <td>-3.122829e-01</td>\n",
       "      <td>-9.018810e-02</td>\n",
       "      <td>-3.155564e-01</td>\n",
       "      <td>-2.704680e-01</td>\n",
       "    </tr>\n",
       "    <tr>\n",
       "      <th>50%</th>\n",
       "      <td>2.179135e+02</td>\n",
       "      <td>2.013000e+03</td>\n",
       "      <td>9.575417e+01</td>\n",
       "      <td>2.205129e-01</td>\n",
       "      <td>4.593159e-01</td>\n",
       "      <td>4.795972e-01</td>\n",
       "      <td>5.727441e-01</td>\n",
       "      <td>7.519920e+00</td>\n",
       "      <td>6.261150e-01</td>\n",
       "      <td>1.002422e+00</td>\n",
       "      <td>2.161874e-04</td>\n",
       "      <td>5.000000e+00</td>\n",
       "      <td>1.294195e-01</td>\n",
       "      <td>-8.084000e+00</td>\n",
       "      <td>4.854369e-01</td>\n",
       "      <td>4.549237e-01</td>\n",
       "      <td>5.012670e-02</td>\n",
       "      <td>1.199480e+02</td>\n",
       "      <td>4.000000e+00</td>\n",
       "      <td>4.736025e-01</td>\n",
       "      <td>-4.000132e-02</td>\n",
       "      <td>8.460746e-02</td>\n",
       "      <td>1.291028e-01</td>\n",
       "      <td>6.207571e-02</td>\n",
       "      <td>-1.709655e-02</td>\n",
       "      <td>4.277601e-02</td>\n",
       "      <td>-9.838638e-02</td>\n",
       "      <td>-4.027091e-03</td>\n",
       "    </tr>\n",
       "    <tr>\n",
       "      <th>75%</th>\n",
       "      <td>2.671733e+02</td>\n",
       "      <td>2.017000e+03</td>\n",
       "      <td>9.792122e+01</td>\n",
       "      <td>6.528423e-01</td>\n",
       "      <td>5.851562e-01</td>\n",
       "      <td>6.339014e-01</td>\n",
       "      <td>6.975901e-01</td>\n",
       "      <td>9.476902e+00</td>\n",
       "      <td>8.073052e-01</td>\n",
       "      <td>1.029172e+00</td>\n",
       "      <td>3.132863e-01</td>\n",
       "      <td>8.000000e+00</td>\n",
       "      <td>2.700362e-01</td>\n",
       "      <td>-5.791000e+00</td>\n",
       "      <td>7.173145e-01</td>\n",
       "      <td>6.480055e-01</td>\n",
       "      <td>1.015356e-01</td>\n",
       "      <td>1.398600e+02</td>\n",
       "      <td>4.000000e+00</td>\n",
       "      <td>7.050039e-01</td>\n",
       "      <td>1.915962e-01</td>\n",
       "      <td>2.832876e-01</td>\n",
       "      <td>2.746523e-01</td>\n",
       "      <td>2.832823e-01</td>\n",
       "      <td>3.724048e-01</td>\n",
       "      <td>1.476096e-01</td>\n",
       "      <td>2.058770e-01</td>\n",
       "      <td>2.218316e-01</td>\n",
       "    </tr>\n",
       "    <tr>\n",
       "      <th>max</th>\n",
       "      <td>1.799999e+03</td>\n",
       "      <td>2.019000e+03</td>\n",
       "      <td>1.000000e+02</td>\n",
       "      <td>9.957964e-01</td>\n",
       "      <td>9.999525e-01</td>\n",
       "      <td>9.862775e-01</td>\n",
       "      <td>9.978067e-01</td>\n",
       "      <td>5.261309e+01</td>\n",
       "      <td>9.999841e-01</td>\n",
       "      <td>1.167801e+00</td>\n",
       "      <td>9.999964e-01</td>\n",
       "      <td>1.100000e+01</td>\n",
       "      <td>1.000000e+00</td>\n",
       "      <td>6.275000e+00</td>\n",
       "      <td>1.000000e+00</td>\n",
       "      <td>9.791129e-01</td>\n",
       "      <td>9.705799e-01</td>\n",
       "      <td>2.499870e+02</td>\n",
       "      <td>5.000000e+00</td>\n",
       "      <td>9.999900e-01</td>\n",
       "      <td>1.000457e+00</td>\n",
       "      <td>8.624035e-01</td>\n",
       "      <td>6.509755e-01</td>\n",
       "      <td>1.202726e+00</td>\n",
       "      <td>1.000955e+00</td>\n",
       "      <td>4.130149e-01</td>\n",
       "      <td>1.092165e+00</td>\n",
       "      <td>1.204228e+00</td>\n",
       "    </tr>\n",
       "  </tbody>\n",
       "</table>\n",
       "</div>"
      ],
      "text/plain": [
       "           duration  release_year  us_popularity_estimate  acousticness  \\\n",
       "count  3.706388e+06  3.706388e+06            3.706388e+06  3.706388e+06   \n",
       "mean   2.331915e+02  2.009261e+03            9.557394e+01  3.469715e-01   \n",
       "std    1.084008e+02  1.103289e+01            2.735566e+00  3.426439e-01   \n",
       "min    3.000095e+01  1.950000e+03            9.000000e+01  0.000000e+00   \n",
       "25%    1.767467e+02  2.006000e+03            9.338183e+01  2.667680e-02   \n",
       "50%    2.179135e+02  2.013000e+03            9.575417e+01  2.205129e-01   \n",
       "75%    2.671733e+02  2.017000e+03            9.792122e+01  6.528423e-01   \n",
       "max    1.799999e+03  2.019000e+03            1.000000e+02  9.957964e-01   \n",
       "\n",
       "       beat_strength    bounciness  danceability  dyn_range_mean  \\\n",
       "count   3.706388e+06  3.706388e+06  3.706388e+06    3.706388e+06   \n",
       "mean    4.617475e-01  4.791122e-01  5.565486e-01    7.848266e+00   \n",
       "std     1.717593e-01  1.990264e-01  1.858440e-01    2.680296e+00   \n",
       "min     0.000000e+00  0.000000e+00  0.000000e+00    0.000000e+00   \n",
       "25%     3.316528e-01  3.206987e-01  4.326980e-01    5.821963e+00   \n",
       "50%     4.593159e-01  4.795972e-01  5.727441e-01    7.519920e+00   \n",
       "75%     5.851562e-01  6.339014e-01  6.975901e-01    9.476902e+00   \n",
       "max     9.999525e-01  9.862775e-01  9.978067e-01    5.261309e+01   \n",
       "\n",
       "             energy      flatness  instrumentalness           key  \\\n",
       "count  3.706388e+06  3.706388e+06      3.706388e+06  3.706388e+06   \n",
       "mean   5.918491e-01  9.934531e-01      2.070054e-01  5.272434e+00   \n",
       "std    2.602815e-01  5.521685e-02      3.447905e-01  3.564020e+00   \n",
       "min    0.000000e+00  0.000000e+00      0.000000e+00  0.000000e+00   \n",
       "25%    4.098319e-01  9.691408e-01      2.465405e-07  2.000000e+00   \n",
       "50%    6.261150e-01  1.002422e+00      2.161874e-04  5.000000e+00   \n",
       "75%    8.073052e-01  1.029172e+00      3.132863e-01  8.000000e+00   \n",
       "max    9.999841e-01  1.167801e+00      9.999964e-01  1.100000e+01   \n",
       "\n",
       "           liveness      loudness     mechanism      organism   speechiness  \\\n",
       "count  3.706388e+06  3.706388e+06  3.706388e+06  3.706388e+06  3.706388e+06   \n",
       "mean   2.126515e-01 -9.604988e+00  4.996207e-01  4.618936e-01  1.045310e-01   \n",
       "std    1.924461e-01  5.732654e+00  2.561809e-01  2.509198e-01  1.385980e-01   \n",
       "min    0.000000e+00 -6.000000e+01  0.000000e+00  0.000000e+00  0.000000e+00   \n",
       "25%    9.680310e-02 -1.171000e+01  2.692308e-01  2.532349e-01  3.627243e-02   \n",
       "50%    1.294195e-01 -8.084000e+00  4.854369e-01  4.549237e-01  5.012670e-02   \n",
       "75%    2.700362e-01 -5.791000e+00  7.173145e-01  6.480055e-01  1.015356e-01   \n",
       "max    1.000000e+00  6.275000e+00  1.000000e+00  9.791129e-01  9.705799e-01   \n",
       "\n",
       "              tempo  time_signature       valence  acoustic_vector_0  \\\n",
       "count  3.706388e+06    3.706388e+06  3.706388e+06       3.706388e+06   \n",
       "mean   1.200684e+02    3.874560e+00  4.814764e-01      -1.044815e-01   \n",
       "std    3.042757e+01    4.851897e-01  2.725142e-01       4.323750e-01   \n",
       "min    0.000000e+00    0.000000e+00  0.000000e+00      -1.174042e+00   \n",
       "25%    9.603400e+01    4.000000e+00  2.519543e-01      -4.085117e-01   \n",
       "50%    1.199480e+02    4.000000e+00  4.736025e-01      -4.000132e-02   \n",
       "75%    1.398600e+02    4.000000e+00  7.050039e-01       1.915962e-01   \n",
       "max    2.499870e+02    5.000000e+00  9.999900e-01       1.000457e+00   \n",
       "\n",
       "       acoustic_vector_1  acoustic_vector_2  acoustic_vector_3  \\\n",
       "count       3.706388e+06       3.706388e+06       3.706388e+06   \n",
       "mean        1.553606e-02       5.953425e-02       5.320778e-02   \n",
       "std         3.607428e-01       2.804066e-01       3.821163e-01   \n",
       "min        -1.185975e+00      -8.858698e-01      -8.994451e-01   \n",
       "25%        -1.757177e-01      -1.471524e-01      -2.348342e-01   \n",
       "50%         8.460746e-02       1.291028e-01       6.207571e-02   \n",
       "75%         2.832876e-01       2.746523e-01       2.832823e-01   \n",
       "max         8.624035e-01       6.509755e-01       1.202726e+00   \n",
       "\n",
       "       acoustic_vector_4  acoustic_vector_5  acoustic_vector_6  \\\n",
       "count       3.706388e+06       3.706388e+06       3.706388e+06   \n",
       "mean        2.273738e-02       6.459076e-04      -2.493560e-02   \n",
       "std         4.107566e-01       2.118570e-01       3.742747e-01   \n",
       "min        -1.081056e+00      -1.063290e+00      -8.022487e-01   \n",
       "25%        -3.122829e-01      -9.018810e-02      -3.155564e-01   \n",
       "50%        -1.709655e-02       4.277601e-02      -9.838638e-02   \n",
       "75%         3.724048e-01       1.476096e-01       2.058770e-01   \n",
       "max         1.000955e+00       4.130149e-01       1.092165e+00   \n",
       "\n",
       "       acoustic_vector_7  \n",
       "count       3.706388e+06  \n",
       "mean       -1.594925e-03  \n",
       "std         3.871178e-01  \n",
       "min        -1.178501e+00  \n",
       "25%        -2.704680e-01  \n",
       "50%        -4.027091e-03  \n",
       "75%         2.218316e-01  \n",
       "max         1.204228e+00  "
      ]
     },
     "execution_count": 21,
     "metadata": {},
     "output_type": "execute_result"
    }
   ],
   "source": [
    "tf.describe()"
   ]
  },
  {
   "cell_type": "code",
   "execution_count": 22,
   "metadata": {},
   "outputs": [
    {
     "name": "stdout",
     "output_type": "stream",
     "text": [
      "Total durations are 1006437\n",
      "233.19145037273267\n"
     ]
    },
    {
     "data": {
      "image/png": "[encoded data removed]",
      "text/plain": [
       "<Figure size 432x288 with 1 Axes>"
      ]
     },
     "metadata": {
      "needs_background": "light"
     },
     "output_type": "display_data"
    }
   ],
   "source": [
    "tf.duration.hist();\n",
    "print(\"Total durations are\", len(set(tf.duration)))\n",
    "print(np.mean(tf.duration.values))"
   ]
  },
  {
   "cell_type": "markdown",
   "metadata": {},
   "source": [
    "### Release year of the song.\n",
    "We expect an exponential curve, being songs released nowadays many more than before!"
   ]
  },
  {
   "cell_type": "code",
   "execution_count": 23,
   "metadata": {},
   "outputs": [
    {
     "data": {
      "image/png": "[encoded data removed]",
      "text/plain": [
       "<Figure size 432x288 with 1 Axes>"
      ]
     },
     "metadata": {
      "needs_background": "light"
     },
     "output_type": "display_data"
    }
   ],
   "source": [
    "tf.release_year.hist();\n",
    "# Similar to inverse power law distribution :)"
   ]
  },
  {
   "cell_type": "markdown",
   "metadata": {},
   "source": [
    "### US popularity  of the song.\n",
    "Spotify estimates the popularity by the listens a song obtains. We are quite focused on US as we can see..."
   ]
  },
  {
   "cell_type": "code",
   "execution_count": 24,
   "metadata": {},
   "outputs": [
    {
     "data": {
      "image/png": "[encoded data removed]",
      "text/plain": [
       "<Figure size 432x288 with 1 Axes>"
      ]
     },
     "metadata": {
      "needs_background": "light"
     },
     "output_type": "display_data"
    }
   ],
   "source": [
    "tf.us_popularity_estimate.hist();"
   ]
  },
  {
   "cell_type": "code",
   "execution_count": 25,
   "metadata": {},
   "outputs": [
    {
     "data": {
      "image/png": "[encoded data removed]",
      "text/plain": [
       "<Figure size 432x288 with 1 Axes>"
      ]
     },
     "metadata": {
      "needs_background": "light"
     },
     "output_type": "display_data"
    }
   ],
   "source": [
    "tf.beat_strength.hist();\n",
    "# So that's a case of gaussian distribution :)"
   ]
  },
  {
   "cell_type": "code",
   "execution_count": 26,
   "metadata": {},
   "outputs": [
    {
     "data": {
      "image/png": "[encoded data removed]",
      "text/plain": [
       "<Figure size 432x288 with 1 Axes>"
      ]
     },
     "metadata": {
      "needs_background": "light"
     },
     "output_type": "display_data"
    }
   ],
   "source": [
    "tf.acoustic_vector_0.hist();"
   ]
  },
  {
   "cell_type": "code",
   "execution_count": 27,
   "metadata": {},
   "outputs": [
    {
     "data": {
      "text/plain": [
       "<matplotlib.axes._subplots.AxesSubplot at 0x1a21df2fd0>"
      ]
     },
     "execution_count": 27,
     "metadata": {},
     "output_type": "execute_result"
    },
    {
     "data": {
      "image/png": "[encoded data removed]",
      "text/plain": [
       "<Figure size 432x288 with 1 Axes>"
      ]
     },
     "metadata": {
      "needs_background": "light"
     },
     "output_type": "display_data"
    }
   ],
   "source": [
    "tf.time_signature.hist()"
   ]
  },
  {
   "cell_type": "code",
   "execution_count": 28,
   "metadata": {},
   "outputs": [
    {
     "data": {
      "text/plain": [
       "4    3186542\n",
       "3     393780\n",
       "5      77590\n",
       "1      45164\n",
       "0       3312\n",
       "Name: time_signature, dtype: int64"
      ]
     },
     "execution_count": 28,
     "metadata": {},
     "output_type": "execute_result"
    }
   ],
   "source": [
    "tf.time_signature.value_counts()"
   ]
  },
  {
   "cell_type": "markdown",
   "metadata": {},
   "source": [
    "# 2- Dataset Preprocessing"
   ]
  },
  {
   "cell_type": "markdown",
   "metadata": {},
   "source": [
    "As we can see, the dataset is made of these columns:\n",
    "\n",
    "- SessionPosition: the position of the track on the session (which can be long up to 20)\n",
    "- skip_1\tskip_2\tskip_3\tnot_skipped: The possible values for skipping. For this purpose, we will drop all of these except for the skip_2, which is the type of skip we are interested on"
   ]
  },
  {
   "cell_type": "code",
   "execution_count": 29,
   "metadata": {},
   "outputs": [],
   "source": [
    "data[\"label\"] = data[\"skip_2\"]\n",
    "data.drop(['skip_1', 'skip_2','skip_3', 'not_skipped'], axis=1, inplace=True)"
   ]
  },
  {
   "cell_type": "markdown",
   "metadata": {},
   "source": [
    "### Feature Engineering:  \n",
    "- hour of day -> only 4 values: night-morning-after-evening\n",
    "- session length - max - med - low\n"
   ]
  },
  {
   "cell_type": "markdown",
   "metadata": {},
   "source": [
    "# Reduce the number of features\n",
    "\n",
    "According to many papers, session_length is a very interesting festures and sessions having lenght = 20 (the max) and other lenght behaves very ifferently. We hence decided to put the feature as **Categorical** and to reduce the number of possible choices. We iterate over the dataframe and used the followint assignment:\n",
    "\n",
    "Same happens for hour_of_day to distinguish afternoon-evening-morning and release year"
   ]
  },
  {
   "cell_type": "code",
   "execution_count": 30,
   "metadata": {},
   "outputs": [
    {
     "name": "stderr",
     "output_type": "stream",
     "text": [
      "100%|██████████| 2990609/2990609 [04:15<00:00, 11702.16it/s]\n"
     ]
    }
   ],
   "source": [
    "for i in tqdm(data.index):\n",
    "    leng = int(data.at[i, \"session_length\"])\n",
    "    hour = int(data.at[i, \"hour_of_day\"])\n",
    "    if leng < 15:\n",
    "        data.at[i, \"session_length\"] = 0\n",
    "    elif leng >= 15 and leng<20:\n",
    "        data.at[i, \"session_length\"] = 1\n",
    "    else:\n",
    "        data.at[i, \"session_length\"] = 2\n",
    "        \n",
    "        \n",
    "    if hour >7 and hour<=13:\n",
    "        hour = data.at[i, \"hour_of_day\"] = 0\n",
    "    elif hour >13 and hour<20:\n",
    "        hour = data.at[i, \"hour_of_day\"] = 1\n",
    "    elif hour >=20:\n",
    "        hour = data.at[i, \"hour_of_day\"] = 2\n",
    "    else:\n",
    "        hour = data.at[i, \"hour_of_day\"] = 3\n",
    "        \n",
    "\n",
    "        "
   ]
  },
  {
   "cell_type": "code",
   "execution_count": 31,
   "metadata": {},
   "outputs": [
    {
     "name": "stderr",
     "output_type": "stream",
     "text": [
      "100%|██████████| 3706388/3706388 [02:09<00:00, 28614.04it/s]\n"
     ]
    }
   ],
   "source": [
    "for i in tqdm(tf.index):\n",
    "    yr = int(tf.at[i, \"release_year\"])\n",
    "    if yr < 1960:\n",
    "        tf.at[i, \"release_year\"] = 0\n",
    "    elif yr >= 1960 and yr < 1970:\n",
    "        tf.at[i, \"release_year\"] = 1\n",
    "    elif yr > 1970 and yr <= 1980:\n",
    "        tf.at[i, \"release_year\"] = 2\n",
    "    elif yr > 1980 and yr <= 1990:\n",
    "        tf.at[i, \"release_year\"] = 3\n",
    "    elif yr > 1990 and yr <= 2000:\n",
    "        tf.at[i, \"release_year\"] = 4\n",
    "    elif yr > 2000 and yr <= 2005:\n",
    "        tf.at[i, \"release_year\"] = 5\n",
    "    elif yr > 2005 and yr <= 2010:\n",
    "        tf.at[i, \"release_year\"] = 6\n",
    "    elif yr > 2010 and yr <= 2015:\n",
    "        tf.at[i, \"release_year\"] = 7\n",
    "        "
   ]
  }
 ],
 "metadata": {
  "kernelspec": {
   "display_name": "Python 3",
   "language": "python",
   "name": "python3"
  },
  "language_info": {
   "codemirror_mode": {
    "name": "ipython",
    "version": 3
   },
   "file_extension": ".py",
   "mimetype": "text/x-python",
   "name": "python",
   "nbconvert_exporter": "python",
   "pygments_lexer": "ipython3",
   "version": "3.7.4"
  }
 },
 "nbformat": 4,
 "nbformat_minor": 2
}
